{
 "cells": [
  {
   "cell_type": "code",
   "execution_count": 1,
   "metadata": {
    "id": "a20LHdPzCPC-"
   },
   "outputs": [],
   "source": [
    "import pandas as pd"
   ]
  },
  {
   "cell_type": "code",
   "execution_count": 6,
   "metadata": {
    "id": "VPgj3qiHCitC"
   },
   "outputs": [],
   "source": [
    "df=pd.read_csv(\"../DL/DATA/fake_reg.csv\")"
   ]
  },
  {
   "cell_type": "code",
   "execution_count": 7,
   "metadata": {
    "colab": {
     "base_uri": "https://localhost:8080/",
     "height": 195
    },
    "executionInfo": {
     "elapsed": 839,
     "status": "ok",
     "timestamp": 1609690689099,
     "user": {
      "displayName": "Richard C",
      "photoUrl": "",
      "userId": "08040814671867660929"
     },
     "user_tz": -180
    },
    "id": "F4idZf_HCn-N",
    "outputId": "54352a80-022e-4189-f6f0-8516eee6dd75"
   },
   "outputs": [
    {
     "data": {
      "text/html": [
       "<div>\n",
       "<style scoped>\n",
       "    .dataframe tbody tr th:only-of-type {\n",
       "        vertical-align: middle;\n",
       "    }\n",
       "\n",
       "    .dataframe tbody tr th {\n",
       "        vertical-align: top;\n",
       "    }\n",
       "\n",
       "    .dataframe thead th {\n",
       "        text-align: right;\n",
       "    }\n",
       "</style>\n",
       "<table border=\"1\" class=\"dataframe\">\n",
       "  <thead>\n",
       "    <tr style=\"text-align: right;\">\n",
       "      <th></th>\n",
       "      <th>price</th>\n",
       "      <th>feature1</th>\n",
       "      <th>feature2</th>\n",
       "    </tr>\n",
       "  </thead>\n",
       "  <tbody>\n",
       "    <tr>\n",
       "      <th>0</th>\n",
       "      <td>461.527929</td>\n",
       "      <td>999.787558</td>\n",
       "      <td>999.766096</td>\n",
       "    </tr>\n",
       "    <tr>\n",
       "      <th>1</th>\n",
       "      <td>548.130011</td>\n",
       "      <td>998.861615</td>\n",
       "      <td>1001.042403</td>\n",
       "    </tr>\n",
       "    <tr>\n",
       "      <th>2</th>\n",
       "      <td>410.297162</td>\n",
       "      <td>1000.070267</td>\n",
       "      <td>998.844015</td>\n",
       "    </tr>\n",
       "    <tr>\n",
       "      <th>3</th>\n",
       "      <td>540.382220</td>\n",
       "      <td>999.952251</td>\n",
       "      <td>1000.440940</td>\n",
       "    </tr>\n",
       "    <tr>\n",
       "      <th>4</th>\n",
       "      <td>546.024553</td>\n",
       "      <td>1000.446011</td>\n",
       "      <td>1000.338531</td>\n",
       "    </tr>\n",
       "  </tbody>\n",
       "</table>\n",
       "</div>"
      ],
      "text/plain": [
       "        price     feature1     feature2\n",
       "0  461.527929   999.787558   999.766096\n",
       "1  548.130011   998.861615  1001.042403\n",
       "2  410.297162  1000.070267   998.844015\n",
       "3  540.382220   999.952251  1000.440940\n",
       "4  546.024553  1000.446011  1000.338531"
      ]
     },
     "execution_count": 7,
     "metadata": {},
     "output_type": "execute_result"
    }
   ],
   "source": [
    "df.head()"
   ]
  },
  {
   "cell_type": "code",
   "execution_count": 8,
   "metadata": {
    "colab": {
     "base_uri": "https://localhost:8080/"
    },
    "executionInfo": {
     "elapsed": 803,
     "status": "ok",
     "timestamp": 1609691252422,
     "user": {
      "displayName": "Richard C",
      "photoUrl": "",
      "userId": "08040814671867660929"
     },
     "user_tz": -180
    },
    "id": "eXIKKSSCENVh",
    "outputId": "f5919edb-0505-4c23-bd7c-e84ccb877d06"
   },
   "outputs": [
    {
     "data": {
      "text/plain": [
       "(1000, 3)"
      ]
     },
     "execution_count": 8,
     "metadata": {},
     "output_type": "execute_result"
    }
   ],
   "source": [
    "df.shape"
   ]
  },
  {
   "cell_type": "code",
   "execution_count": null,
   "metadata": {
    "colab": {
     "base_uri": "https://localhost:8080/"
    },
    "executionInfo": {
     "elapsed": 684,
     "status": "ok",
     "timestamp": 1609691275828,
     "user": {
      "displayName": "Richard C",
      "photoUrl": "",
      "userId": "08040814671867660929"
     },
     "user_tz": -180
    },
    "id": "50bn5JJtE0Mi",
    "outputId": "f2d107db-5312-44e3-f8a2-74362e7d8459"
   },
   "outputs": [
    {
     "data": {
      "text/plain": [
       "False"
      ]
     },
     "execution_count": 8,
     "metadata": {
      "tags": []
     },
     "output_type": "execute_result"
    }
   ],
   "source": [
    "df.isnull().sum().any()"
   ]
  },
  {
   "cell_type": "code",
   "execution_count": null,
   "metadata": {
    "id": "uSoweyZ7E58O"
   },
   "outputs": [],
   "source": [
    "import seaborn as sns\n",
    "import matplotlib.pyplot as plt\n"
   ]
  },
  {
   "cell_type": "code",
   "execution_count": null,
   "metadata": {
    "colab": {
     "base_uri": "https://localhost:8080/",
     "height": 567
    },
    "executionInfo": {
     "elapsed": 5042,
     "status": "ok",
     "timestamp": 1609691372219,
     "user": {
      "displayName": "Richard C",
      "photoUrl": "",
      "userId": "08040814671867660929"
     },
     "user_tz": -180
    },
    "id": "BWhtkIQ0FLPN",
    "outputId": "6c31fd5b-8841-4bbc-da72-d34352abce00"
   },
   "outputs": [
    {
     "data": {
      "text/plain": [
       "<seaborn.axisgrid.PairGrid at 0x7f9628212ef0>"
      ]
     },
     "execution_count": 10,
     "metadata": {
      "tags": []
     },
     "output_type": "execute_result"
    },
    {
     "data": {
      "image/png": "[encoded data removed]",
      "text/plain": [
       "<Figure size 540x540 with 12 Axes>"
      ]
     },
     "metadata": {
      "needs_background": "light",
      "tags": []
     },
     "output_type": "display_data"
    }
   ],
   "source": [
    "sns.pairplot(df)"
   ]
  },
  {
   "cell_type": "code",
   "execution_count": null,
   "metadata": {
    "colab": {
     "base_uri": "https://localhost:8080/",
     "height": 141
    },
    "executionInfo": {
     "elapsed": 753,
     "status": "ok",
     "timestamp": 1609691483985,
     "user": {
      "displayName": "Richard C",
      "photoUrl": "",
      "userId": "08040814671867660929"
     },
     "user_tz": -180
    },
    "id": "MPDlUaZQFQZx",
    "outputId": "c7900030-d486-4ba5-db86-2646cf5d4e9c"
   },
   "outputs": [
    {
     "data": {
      "text/html": [
       "<div>\n",
       "<style scoped>\n",
       "    .dataframe tbody tr th:only-of-type {\n",
       "        vertical-align: middle;\n",
       "    }\n",
       "\n",
       "    .dataframe tbody tr th {\n",
       "        vertical-align: top;\n",
       "    }\n",
       "\n",
       "    .dataframe thead th {\n",
       "        text-align: right;\n",
       "    }\n",
       "</style>\n",
       "<table border=\"1\" class=\"dataframe\">\n",
       "  <thead>\n",
       "    <tr style=\"text-align: right;\">\n",
       "      <th></th>\n",
       "      <th>price</th>\n",
       "      <th>feature1</th>\n",
       "      <th>feature2</th>\n",
       "    </tr>\n",
       "  </thead>\n",
       "  <tbody>\n",
       "    <tr>\n",
       "      <th>price</th>\n",
       "      <td>1.000000</td>\n",
       "      <td>0.444190</td>\n",
       "      <td>0.907576</td>\n",
       "    </tr>\n",
       "    <tr>\n",
       "      <th>feature1</th>\n",
       "      <td>0.444190</td>\n",
       "      <td>1.000000</td>\n",
       "      <td>0.030607</td>\n",
       "    </tr>\n",
       "    <tr>\n",
       "      <th>feature2</th>\n",
       "      <td>0.907576</td>\n",
       "      <td>0.030607</td>\n",
       "      <td>1.000000</td>\n",
       "    </tr>\n",
       "  </tbody>\n",
       "</table>\n",
       "</div>"
      ],
      "text/plain": [
       "             price  feature1  feature2\n",
       "price     1.000000  0.444190  0.907576\n",
       "feature1  0.444190  1.000000  0.030607\n",
       "feature2  0.907576  0.030607  1.000000"
      ]
     },
     "execution_count": 11,
     "metadata": {
      "tags": []
     },
     "output_type": "execute_result"
    }
   ],
   "source": [
    "df.corr()"
   ]
  },
  {
   "cell_type": "markdown",
   "metadata": {},
   "source": [
    "# Modelling"
   ]
  },
  {
   "cell_type": "code",
   "execution_count": null,
   "metadata": {
    "id": "K24ur0uCFwBE"
   },
   "outputs": [],
   "source": [
    "from sklearn.model_selection import train_test_split"
   ]
  },
  {
   "cell_type": "code",
   "execution_count": null,
   "metadata": {
    "id": "V0eI-V-WGA8G"
   },
   "outputs": [],
   "source": [
    "X = df[[\"feature1\", \"feature2\"]].values"
   ]
  },
  {
   "cell_type": "code",
   "execution_count": null,
   "metadata": {
    "id": "FANjvg5xGc4n"
   },
   "outputs": [],
   "source": [
    "y=df[\"price\"].values"
   ]
  },
  {
   "cell_type": "code",
   "execution_count": null,
   "metadata": {
    "id": "3qapExXsGoPi"
   },
   "outputs": [],
   "source": [
    "X_train, X_test, y_train, y_test = train_test_split(X,y,test_size=0.3,random_state=42)"
   ]
  },
  {
   "cell_type": "code",
   "execution_count": null,
   "metadata": {
    "colab": {
     "base_uri": "https://localhost:8080/"
    },
    "executionInfo": {
     "elapsed": 1027,
     "status": "ok",
     "timestamp": 1609696714238,
     "user": {
      "displayName": "Richard C",
      "photoUrl": "",
      "userId": "08040814671867660929"
     },
     "user_tz": -180
    },
    "id": "3LJTYRL-GuxG",
    "outputId": "3b31100f-8e1d-49c2-aa8b-e3c518c60391"
   },
   "outputs": [
    {
     "data": {
      "text/plain": [
       "(700, 2)"
      ]
     },
     "execution_count": 7,
     "metadata": {
      "tags": []
     },
     "output_type": "execute_result"
    }
   ],
   "source": [
    "X_train.shape"
   ]
  },
  {
   "cell_type": "code",
   "execution_count": null,
   "metadata": {
    "colab": {
     "base_uri": "https://localhost:8080/"
    },
    "executionInfo": {
     "elapsed": 724,
     "status": "ok",
     "timestamp": 1609696717232,
     "user": {
      "displayName": "Richard C",
      "photoUrl": "",
      "userId": "08040814671867660929"
     },
     "user_tz": -180
    },
    "id": "vd_J76_NGu24",
    "outputId": "5ff8ee71-7b1f-4045-a8ae-6fb6234b5cac"
   },
   "outputs": [
    {
     "data": {
      "text/plain": [
       "array([[1001.63407565,  998.80950388],\n",
       "       [ 999.76150137,  998.41802414],\n",
       "       [ 998.2638401 , 1000.92030063],\n",
       "       ...,\n",
       "       [1000.47386523, 1001.44542815],\n",
       "       [ 998.8625673 ,  999.15662112],\n",
       "       [1000.55690247,  999.35441706]])"
      ]
     },
     "execution_count": 8,
     "metadata": {
      "tags": []
     },
     "output_type": "execute_result"
    }
   ],
   "source": [
    "X_train"
   ]
  },
  {
   "cell_type": "markdown",
   "metadata": {
    "id": "dAPmE0BlG7iH"
   },
   "source": [
    "## scaling data"
   ]
  },
  {
   "cell_type": "code",
   "execution_count": null,
   "metadata": {
    "id": "SATVaqm7HH7h"
   },
   "outputs": [],
   "source": [
    "from sklearn.preprocessing import MinMaxScaler"
   ]
  },
  {
   "cell_type": "code",
   "execution_count": null,
   "metadata": {
    "id": "KcgAeQVMHZA3"
   },
   "outputs": [],
   "source": [
    "scaler2 = MinMaxScaler()"
   ]
  },
  {
   "cell_type": "code",
   "execution_count": null,
   "metadata": {
    "colab": {
     "base_uri": "https://localhost:8080/"
    },
    "executionInfo": {
     "elapsed": 550,
     "status": "ok",
     "timestamp": 1609696727777,
     "user": {
      "displayName": "Richard C",
      "photoUrl": "",
      "userId": "08040814671867660929"
     },
     "user_tz": -180
    },
    "id": "79M307MeH_64",
    "outputId": "ad7d0bc3-f52d-40f3-c4dc-129018e895d5"
   },
   "outputs": [
    {
     "data": {
      "text/plain": [
       "MinMaxScaler(copy=True, feature_range=(0, 1))"
      ]
     },
     "execution_count": 11,
     "metadata": {
      "tags": []
     },
     "output_type": "execute_result"
    }
   ],
   "source": [
    "scaler2.fit(X_train)"
   ]
  },
  {
   "cell_type": "code",
   "execution_count": null,
   "metadata": {
    "id": "OnsnfAr5IUtG"
   },
   "outputs": [],
   "source": [
    "X_train = scaler2.transform(X_train)"
   ]
  },
  {
   "cell_type": "code",
   "execution_count": null,
   "metadata": {
    "id": "_K8bB7KAIi_H"
   },
   "outputs": [],
   "source": [
    "X_test = scaler2.transform(X_test)"
   ]
  },
  {
   "cell_type": "code",
   "execution_count": null,
   "metadata": {
    "colab": {
     "base_uri": "https://localhost:8080/"
    },
    "executionInfo": {
     "elapsed": 709,
     "status": "ok",
     "timestamp": 1609696732432,
     "user": {
      "displayName": "Richard C",
      "photoUrl": "",
      "userId": "08040814671867660929"
     },
     "user_tz": -180
    },
    "id": "OYqxXAEbI092",
    "outputId": "f319d5f5-388b-4dd8-f837-471d39cc9700"
   },
   "outputs": [
    {
     "data": {
      "text/plain": [
       "0.0"
      ]
     },
     "execution_count": 14,
     "metadata": {
      "tags": []
     },
     "output_type": "execute_result"
    }
   ],
   "source": [
    "X_train.min()"
   ]
  },
  {
   "cell_type": "code",
   "execution_count": null,
   "metadata": {
    "colab": {
     "base_uri": "https://localhost:8080/"
    },
    "executionInfo": {
     "elapsed": 640,
     "status": "ok",
     "timestamp": 1609696733334,
     "user": {
      "displayName": "Richard C",
      "photoUrl": "",
      "userId": "08040814671867660929"
     },
     "user_tz": -180
    },
    "id": "cYRD2qkDI4Ve",
    "outputId": "09a767a0-b9c1-4ef6-bd90-f8355a05bd1f"
   },
   "outputs": [
    {
     "data": {
      "text/plain": [
       "1.0"
      ]
     },
     "execution_count": 15,
     "metadata": {
      "tags": []
     },
     "output_type": "execute_result"
    }
   ],
   "source": [
    "X_train.max()"
   ]
  },
  {
   "cell_type": "markdown",
   "metadata": {
    "id": "z8-gHH_GJj-g"
   },
   "source": [
    "# TensorFlow Syntax"
   ]
  },
  {
   "cell_type": "code",
   "execution_count": null,
   "metadata": {
    "id": "XdUhiCWgJjP1"
   },
   "outputs": [],
   "source": [
    "import tensorflow as tf"
   ]
  },
  {
   "cell_type": "code",
   "execution_count": null,
   "metadata": {
    "colab": {
     "base_uri": "https://localhost:8080/",
     "height": 35
    },
    "executionInfo": {
     "elapsed": 1368,
     "status": "ok",
     "timestamp": 1609694771662,
     "user": {
      "displayName": "Richard C",
      "photoUrl": "",
      "userId": "08040814671867660929"
     },
     "user_tz": -180
    },
    "id": "c3zRM_1sI6xs",
    "outputId": "a76a38b0-aa66-4b36-c174-416a3561e3d1"
   },
   "outputs": [
    {
     "data": {
      "application/vnd.google.colaboratory.intrinsic+json": {
       "type": "string"
      },
      "text/plain": [
       "'2.4.0'"
      ]
     },
     "execution_count": 53,
     "metadata": {
      "tags": []
     },
     "output_type": "execute_result"
    }
   ],
   "source": [
    "tf.__version__"
   ]
  },
  {
   "cell_type": "code",
   "execution_count": null,
   "metadata": {
    "id": "DpcXQagMJwbf"
   },
   "outputs": [],
   "source": [
    "from tensorflow.keras.models import Sequential"
   ]
  },
  {
   "cell_type": "code",
   "execution_count": null,
   "metadata": {
    "id": "06qrdGsxTLKf"
   },
   "outputs": [],
   "source": [
    "from tensorflow.keras.layers import Dense, Activation"
   ]
  },
  {
   "cell_type": "code",
   "execution_count": null,
   "metadata": {
    "id": "o7i5SkdqTXhj"
   },
   "outputs": [],
   "source": [
    "model6 = Sequential()\n",
    "model6.add(Dense(4, input_dim=2, activation=\"relu\"))           #input_dim = 2  or input_dim = X_train.shape[0]\n",
    "model6.add(Dense(4, activation=\"relu\"))\n",
    "model6.add(Dense(2, activation=\"relu\"))\n",
    "model6.add(Dense(1))\n",
    "model6.compile(optimizer=\"rmsprop\", loss=\"mse\")"
   ]
  },
  {
   "cell_type": "code",
   "execution_count": null,
   "metadata": {
    "colab": {
     "base_uri": "https://localhost:8080/"
    },
    "executionInfo": {
     "elapsed": 14224,
     "status": "ok",
     "timestamp": 1609697636140,
     "user": {
      "displayName": "Richard C",
      "photoUrl": "",
      "userId": "08040814671867660929"
     },
     "user_tz": -180
    },
    "id": "TAXFz028TXkO",
    "outputId": "b0608b5f-1c6e-449b-d853-642ab2185cda"
   },
   "outputs": [
    {
     "name": "stdout",
     "output_type": "stream",
     "text": [
      "Epoch 1/250\n",
      "44/44 [==============================] - 1s 1ms/step - loss: 257494.5694\n",
      "Epoch 2/250\n",
      "44/44 [==============================] - 0s 1ms/step - loss: 257232.4708\n",
      "Epoch 3/250\n",
      "44/44 [==============================] - 0s 1ms/step - loss: 255622.2264\n",
      "Epoch 4/250\n",
      "44/44 [==============================] - 0s 930us/step - loss: 253563.0931\n",
      "Epoch 5/250\n",
      "44/44 [==============================] - 0s 992us/step - loss: 252507.7000\n",
      "Epoch 6/250\n",
      "44/44 [==============================] - 0s 952us/step - loss: 253121.4479\n",
      "Epoch 7/250\n",
      "44/44 [==============================] - 0s 1ms/step - loss: 255040.6243\n",
      "Epoch 8/250\n",
      "44/44 [==============================] - 0s 1ms/step - loss: 252705.3417\n",
      "Epoch 9/250\n",
      "44/44 [==============================] - 0s 932us/step - loss: 254040.1417\n",
      "Epoch 10/250\n",
      "44/44 [==============================] - 0s 905us/step - loss: 252390.3962\n",
      "Epoch 11/250\n",
      "44/44 [==============================] - 0s 934us/step - loss: 253744.1622\n",
      "Epoch 12/250\n",
      "44/44 [==============================] - 0s 1ms/step - loss: 258075.8372\n",
      "Epoch 13/250\n",
      "44/44 [==============================] - 0s 1ms/step - loss: 247371.5840\n",
      "Epoch 14/250\n",
      "44/44 [==============================] - 0s 1ms/step - loss: 246131.4740\n",
      "Epoch 15/250\n",
      "44/44 [==============================] - 0s 943us/step - loss: 250796.0931\n",
      "Epoch 16/250\n",
      "44/44 [==============================] - 0s 956us/step - loss: 252733.0295\n",
      "Epoch 17/250\n",
      "44/44 [==============================] - 0s 933us/step - loss: 251993.2628\n",
      "Epoch 18/250\n",
      "44/44 [==============================] - 0s 1ms/step - loss: 246490.4899\n",
      "Epoch 19/250\n",
      "44/44 [==============================] - 0s 1ms/step - loss: 246271.2014\n",
      "Epoch 20/250\n",
      "44/44 [==============================] - 0s 1ms/step - loss: 247408.9736\n",
      "Epoch 21/250\n",
      "44/44 [==============================] - 0s 1ms/step - loss: 246472.5604\n",
      "Epoch 22/250\n",
      "44/44 [==============================] - 0s 956us/step - loss: 242445.0271\n",
      "Epoch 23/250\n",
      "44/44 [==============================] - 0s 927us/step - loss: 238647.1399\n",
      "Epoch 24/250\n",
      "44/44 [==============================] - 0s 926us/step - loss: 237838.3361\n",
      "Epoch 25/250\n",
      "44/44 [==============================] - 0s 939us/step - loss: 236931.3052\n",
      "Epoch 26/250\n",
      "44/44 [==============================] - 0s 968us/step - loss: 235614.9260\n",
      "Epoch 27/250\n",
      "44/44 [==============================] - 0s 965us/step - loss: 231404.0472\n",
      "Epoch 28/250\n",
      "44/44 [==============================] - 0s 903us/step - loss: 233242.4816\n",
      "Epoch 29/250\n",
      "44/44 [==============================] - 0s 1ms/step - loss: 230368.3569\n",
      "Epoch 30/250\n",
      "44/44 [==============================] - 0s 932us/step - loss: 227279.8420\n",
      "Epoch 31/250\n",
      "44/44 [==============================] - 0s 948us/step - loss: 222625.6865\n",
      "Epoch 32/250\n",
      "44/44 [==============================] - 0s 943us/step - loss: 218028.9493\n",
      "Epoch 33/250\n",
      "44/44 [==============================] - 0s 1ms/step - loss: 216076.7611\n",
      "Epoch 34/250\n",
      "44/44 [==============================] - 0s 1ms/step - loss: 209121.8837\n",
      "Epoch 35/250\n",
      "44/44 [==============================] - 0s 960us/step - loss: 209060.9656\n",
      "Epoch 36/250\n",
      "44/44 [==============================] - 0s 910us/step - loss: 205462.7385\n",
      "Epoch 37/250\n",
      "44/44 [==============================] - 0s 937us/step - loss: 200735.4823\n",
      "Epoch 38/250\n",
      "44/44 [==============================] - 0s 922us/step - loss: 194005.1701\n",
      "Epoch 39/250\n",
      "44/44 [==============================] - 0s 946us/step - loss: 189254.8517\n",
      "Epoch 40/250\n",
      "44/44 [==============================] - 0s 1ms/step - loss: 182782.9104\n",
      "Epoch 41/250\n",
      "44/44 [==============================] - 0s 977us/step - loss: 173462.7920\n",
      "Epoch 42/250\n",
      "44/44 [==============================] - 0s 945us/step - loss: 171249.4868\n",
      "Epoch 43/250\n",
      "44/44 [==============================] - 0s 927us/step - loss: 164299.8069\n",
      "Epoch 44/250\n",
      "44/44 [==============================] - 0s 1ms/step - loss: 158290.6153\n",
      "Epoch 45/250\n",
      "44/44 [==============================] - 0s 956us/step - loss: 155308.9208\n",
      "Epoch 46/250\n",
      "44/44 [==============================] - 0s 1ms/step - loss: 145966.1087\n",
      "Epoch 47/250\n",
      "44/44 [==============================] - 0s 1ms/step - loss: 136395.7333\n",
      "Epoch 48/250\n",
      "44/44 [==============================] - 0s 952us/step - loss: 128686.7927\n",
      "Epoch 49/250\n",
      "44/44 [==============================] - 0s 990us/step - loss: 122473.5309\n",
      "Epoch 50/250\n",
      "44/44 [==============================] - 0s 1ms/step - loss: 118279.6441\n",
      "Epoch 51/250\n",
      "44/44 [==============================] - 0s 1ms/step - loss: 107239.5781\n",
      "Epoch 52/250\n",
      "44/44 [==============================] - 0s 1ms/step - loss: 95926.0809\n",
      "Epoch 53/250\n",
      "44/44 [==============================] - 0s 958us/step - loss: 90994.9413\n",
      "Epoch 54/250\n",
      "44/44 [==============================] - 0s 994us/step - loss: 85047.5960\n",
      "Epoch 55/250\n",
      "44/44 [==============================] - 0s 1ms/step - loss: 78682.2799\n",
      "Epoch 56/250\n",
      "44/44 [==============================] - 0s 1ms/step - loss: 66752.1561\n",
      "Epoch 57/250\n",
      "44/44 [==============================] - 0s 1ms/step - loss: 60446.6266\n",
      "Epoch 58/250\n",
      "44/44 [==============================] - 0s 965us/step - loss: 54630.4452\n",
      "Epoch 59/250\n",
      "44/44 [==============================] - 0s 918us/step - loss: 46820.7285\n",
      "Epoch 60/250\n",
      "44/44 [==============================] - 0s 1ms/step - loss: 41090.8232\n",
      "Epoch 61/250\n",
      "44/44 [==============================] - 0s 961us/step - loss: 32618.1834\n",
      "Epoch 62/250\n",
      "44/44 [==============================] - 0s 970us/step - loss: 25606.3652\n",
      "Epoch 63/250\n",
      "44/44 [==============================] - 0s 947us/step - loss: 20430.2280\n",
      "Epoch 64/250\n",
      "44/44 [==============================] - 0s 1ms/step - loss: 15278.5138\n",
      "Epoch 65/250\n",
      "44/44 [==============================] - 0s 1ms/step - loss: 10346.0920\n",
      "Epoch 66/250\n",
      "44/44 [==============================] - 0s 1ms/step - loss: 7527.2654\n",
      "Epoch 67/250\n",
      "44/44 [==============================] - 0s 975us/step - loss: 5233.3730\n",
      "Epoch 68/250\n",
      "44/44 [==============================] - 0s 953us/step - loss: 3817.5810\n",
      "Epoch 69/250\n",
      "44/44 [==============================] - 0s 975us/step - loss: 3204.4862\n",
      "Epoch 70/250\n",
      "44/44 [==============================] - 0s 1ms/step - loss: 2881.8328\n",
      "Epoch 71/250\n",
      "44/44 [==============================] - 0s 1ms/step - loss: 2988.6763\n",
      "Epoch 72/250\n",
      "44/44 [==============================] - 0s 928us/step - loss: 3076.8931\n",
      "Epoch 73/250\n",
      "44/44 [==============================] - 0s 975us/step - loss: 2913.1260\n",
      "Epoch 74/250\n",
      "44/44 [==============================] - 0s 1ms/step - loss: 2847.0416\n",
      "Epoch 75/250\n",
      "44/44 [==============================] - 0s 937us/step - loss: 2940.9340\n",
      "Epoch 76/250\n",
      "44/44 [==============================] - 0s 954us/step - loss: 2833.1288\n",
      "Epoch 77/250\n",
      "44/44 [==============================] - 0s 992us/step - loss: 2732.9204\n",
      "Epoch 78/250\n",
      "44/44 [==============================] - 0s 962us/step - loss: 2556.8197\n",
      "Epoch 79/250\n",
      "44/44 [==============================] - 0s 933us/step - loss: 2851.2055\n",
      "Epoch 80/250\n",
      "44/44 [==============================] - 0s 964us/step - loss: 2818.4249\n",
      "Epoch 81/250\n",
      "44/44 [==============================] - 0s 1ms/step - loss: 2548.7093\n",
      "Epoch 82/250\n",
      "44/44 [==============================] - 0s 970us/step - loss: 2724.0508\n",
      "Epoch 83/250\n",
      "44/44 [==============================] - 0s 926us/step - loss: 2449.2362\n",
      "Epoch 84/250\n",
      "44/44 [==============================] - 0s 959us/step - loss: 2320.1372\n",
      "Epoch 85/250\n",
      "44/44 [==============================] - 0s 1ms/step - loss: 2283.5109\n",
      "Epoch 86/250\n",
      "44/44 [==============================] - 0s 1ms/step - loss: 2368.5451\n",
      "Epoch 87/250\n",
      "44/44 [==============================] - 0s 1ms/step - loss: 2332.6301\n",
      "Epoch 88/250\n",
      "44/44 [==============================] - 0s 1ms/step - loss: 2302.4963\n",
      "Epoch 89/250\n",
      "44/44 [==============================] - 0s 1ms/step - loss: 2355.8957\n",
      "Epoch 90/250\n",
      "44/44 [==============================] - 0s 2ms/step - loss: 2104.1817\n",
      "Epoch 91/250\n",
      "44/44 [==============================] - 0s 960us/step - loss: 2155.3117\n",
      "Epoch 92/250\n",
      "44/44 [==============================] - 0s 957us/step - loss: 2208.2756\n",
      "Epoch 93/250\n",
      "44/44 [==============================] - 0s 1ms/step - loss: 2049.7444\n",
      "Epoch 94/250\n",
      "44/44 [==============================] - 0s 1ms/step - loss: 1875.7492\n",
      "Epoch 95/250\n",
      "44/44 [==============================] - 0s 1ms/step - loss: 1973.6409\n",
      "Epoch 96/250\n",
      "44/44 [==============================] - 0s 944us/step - loss: 2031.0185\n",
      "Epoch 97/250\n",
      "44/44 [==============================] - 0s 955us/step - loss: 1869.6237\n",
      "Epoch 98/250\n",
      "44/44 [==============================] - 0s 930us/step - loss: 1799.2445\n",
      "Epoch 99/250\n",
      "44/44 [==============================] - 0s 995us/step - loss: 1760.0113\n",
      "Epoch 100/250\n",
      "44/44 [==============================] - 0s 959us/step - loss: 1832.6044\n",
      "Epoch 101/250\n",
      "44/44 [==============================] - 0s 1ms/step - loss: 1702.9027\n",
      "Epoch 102/250\n",
      "44/44 [==============================] - 0s 1ms/step - loss: 1861.0673\n",
      "Epoch 103/250\n",
      "44/44 [==============================] - 0s 978us/step - loss: 1737.8305\n",
      "Epoch 104/250\n",
      "44/44 [==============================] - 0s 998us/step - loss: 1624.9651\n",
      "Epoch 105/250\n",
      "44/44 [==============================] - 0s 1ms/step - loss: 1682.2070\n",
      "Epoch 106/250\n",
      "44/44 [==============================] - 0s 1ms/step - loss: 1480.3504\n",
      "Epoch 107/250\n",
      "44/44 [==============================] - 0s 1ms/step - loss: 1487.9800\n",
      "Epoch 108/250\n",
      "44/44 [==============================] - 0s 1ms/step - loss: 1440.3289\n",
      "Epoch 109/250\n",
      "44/44 [==============================] - 0s 1ms/step - loss: 1464.5154\n",
      "Epoch 110/250\n",
      "44/44 [==============================] - 0s 1ms/step - loss: 1481.4490\n",
      "Epoch 111/250\n",
      "44/44 [==============================] - 0s 986us/step - loss: 1484.4254\n",
      "Epoch 112/250\n",
      "44/44 [==============================] - 0s 1ms/step - loss: 1280.6258\n",
      "Epoch 113/250\n",
      "44/44 [==============================] - 0s 998us/step - loss: 1315.2275\n",
      "Epoch 114/250\n",
      "44/44 [==============================] - 0s 970us/step - loss: 1248.8447\n",
      "Epoch 115/250\n",
      "44/44 [==============================] - 0s 1ms/step - loss: 1192.4091\n",
      "Epoch 116/250\n",
      "44/44 [==============================] - 0s 1ms/step - loss: 1209.3966\n",
      "Epoch 117/250\n",
      "44/44 [==============================] - 0s 994us/step - loss: 1186.1406\n",
      "Epoch 118/250\n",
      "44/44 [==============================] - 0s 976us/step - loss: 1147.6397\n",
      "Epoch 119/250\n",
      "44/44 [==============================] - 0s 957us/step - loss: 1178.2407\n",
      "Epoch 120/250\n",
      "44/44 [==============================] - 0s 1ms/step - loss: 1061.0776\n",
      "Epoch 121/250\n",
      "44/44 [==============================] - 0s 949us/step - loss: 1066.1811\n",
      "Epoch 122/250\n",
      "44/44 [==============================] - 0s 1ms/step - loss: 1073.7226\n",
      "Epoch 123/250\n",
      "44/44 [==============================] - 0s 1ms/step - loss: 1026.7235\n",
      "Epoch 124/250\n",
      "44/44 [==============================] - 0s 1ms/step - loss: 942.9095\n",
      "Epoch 125/250\n",
      "44/44 [==============================] - 0s 1ms/step - loss: 978.5424\n",
      "Epoch 126/250\n",
      "44/44 [==============================] - 0s 1ms/step - loss: 944.0702\n",
      "Epoch 127/250\n",
      "44/44 [==============================] - 0s 933us/step - loss: 958.3335\n",
      "Epoch 128/250\n",
      "44/44 [==============================] - 0s 945us/step - loss: 867.7447\n",
      "Epoch 129/250\n",
      "44/44 [==============================] - 0s 1ms/step - loss: 762.4341\n",
      "Epoch 130/250\n",
      "44/44 [==============================] - 0s 1ms/step - loss: 740.7966\n",
      "Epoch 131/250\n",
      "44/44 [==============================] - 0s 962us/step - loss: 738.2136\n",
      "Epoch 132/250\n",
      "44/44 [==============================] - 0s 1ms/step - loss: 726.6852\n",
      "Epoch 133/250\n",
      "44/44 [==============================] - 0s 1ms/step - loss: 651.8990\n",
      "Epoch 134/250\n",
      "44/44 [==============================] - 0s 1ms/step - loss: 645.6663\n",
      "Epoch 135/250\n",
      "44/44 [==============================] - 0s 945us/step - loss: 719.3417\n",
      "Epoch 136/250\n",
      "44/44 [==============================] - 0s 1ms/step - loss: 633.8927\n",
      "Epoch 137/250\n",
      "44/44 [==============================] - 0s 941us/step - loss: 597.3258\n",
      "Epoch 138/250\n",
      "44/44 [==============================] - 0s 986us/step - loss: 641.0645\n",
      "Epoch 139/250\n",
      "44/44 [==============================] - 0s 985us/step - loss: 571.2356\n",
      "Epoch 140/250\n",
      "44/44 [==============================] - 0s 1ms/step - loss: 518.7294\n",
      "Epoch 141/250\n",
      "44/44 [==============================] - 0s 980us/step - loss: 537.9862\n",
      "Epoch 142/250\n",
      "44/44 [==============================] - 0s 1ms/step - loss: 514.6484\n",
      "Epoch 143/250\n",
      "44/44 [==============================] - 0s 997us/step - loss: 496.3695\n",
      "Epoch 144/250\n",
      "44/44 [==============================] - 0s 976us/step - loss: 425.8921\n",
      "Epoch 145/250\n",
      "44/44 [==============================] - 0s 962us/step - loss: 410.0157\n",
      "Epoch 146/250\n",
      "44/44 [==============================] - 0s 974us/step - loss: 390.4293\n",
      "Epoch 147/250\n",
      "44/44 [==============================] - 0s 1ms/step - loss: 392.4945\n",
      "Epoch 148/250\n",
      "44/44 [==============================] - 0s 1ms/step - loss: 349.8044\n",
      "Epoch 149/250\n",
      "44/44 [==============================] - 0s 1ms/step - loss: 318.1965\n",
      "Epoch 150/250\n",
      "44/44 [==============================] - 0s 1ms/step - loss: 322.9728\n",
      "Epoch 151/250\n",
      "44/44 [==============================] - 0s 944us/step - loss: 274.1158\n",
      "Epoch 152/250\n",
      "44/44 [==============================] - 0s 919us/step - loss: 273.4177\n",
      "Epoch 153/250\n",
      "44/44 [==============================] - 0s 1ms/step - loss: 269.7751\n",
      "Epoch 154/250\n",
      "44/44 [==============================] - 0s 1ms/step - loss: 223.6927\n",
      "Epoch 155/250\n",
      "44/44 [==============================] - 0s 1ms/step - loss: 213.8612\n",
      "Epoch 156/250\n",
      "44/44 [==============================] - 0s 947us/step - loss: 187.5244\n",
      "Epoch 157/250\n",
      "44/44 [==============================] - 0s 991us/step - loss: 186.6342\n",
      "Epoch 158/250\n",
      "44/44 [==============================] - 0s 957us/step - loss: 172.7167\n",
      "Epoch 159/250\n",
      "44/44 [==============================] - 0s 1ms/step - loss: 149.8375\n",
      "Epoch 160/250\n",
      "44/44 [==============================] - 0s 1ms/step - loss: 135.4468\n",
      "Epoch 161/250\n",
      "44/44 [==============================] - 0s 1ms/step - loss: 127.9944\n",
      "Epoch 162/250\n",
      "44/44 [==============================] - 0s 1ms/step - loss: 115.2894\n",
      "Epoch 163/250\n",
      "44/44 [==============================] - 0s 1ms/step - loss: 106.7209\n",
      "Epoch 164/250\n",
      "44/44 [==============================] - 0s 955us/step - loss: 89.7579\n",
      "Epoch 165/250\n",
      "44/44 [==============================] - 0s 996us/step - loss: 86.9427\n",
      "Epoch 166/250\n",
      "44/44 [==============================] - 0s 1ms/step - loss: 74.8413\n",
      "Epoch 167/250\n",
      "44/44 [==============================] - 0s 1ms/step - loss: 63.6564\n",
      "Epoch 168/250\n",
      "44/44 [==============================] - 0s 1ms/step - loss: 59.1222\n",
      "Epoch 169/250\n",
      "44/44 [==============================] - 0s 1ms/step - loss: 46.0646\n",
      "Epoch 170/250\n",
      "44/44 [==============================] - 0s 1ms/step - loss: 43.7881\n",
      "Epoch 171/250\n",
      "44/44 [==============================] - 0s 987us/step - loss: 40.0390\n",
      "Epoch 172/250\n",
      "44/44 [==============================] - 0s 1ms/step - loss: 40.0552\n",
      "Epoch 173/250\n",
      "44/44 [==============================] - 0s 1ms/step - loss: 35.9052\n",
      "Epoch 174/250\n",
      "44/44 [==============================] - 0s 1ms/step - loss: 32.4817\n",
      "Epoch 175/250\n",
      "44/44 [==============================] - 0s 944us/step - loss: 30.5438\n",
      "Epoch 176/250\n",
      "44/44 [==============================] - 0s 952us/step - loss: 28.9278\n",
      "Epoch 177/250\n",
      "44/44 [==============================] - 0s 982us/step - loss: 28.7948\n",
      "Epoch 178/250\n",
      "44/44 [==============================] - 0s 1ms/step - loss: 28.9692\n",
      "Epoch 179/250\n",
      "44/44 [==============================] - 0s 1ms/step - loss: 26.5565\n",
      "Epoch 180/250\n",
      "44/44 [==============================] - 0s 1ms/step - loss: 25.8088\n",
      "Epoch 181/250\n",
      "44/44 [==============================] - 0s 1ms/step - loss: 27.0017\n",
      "Epoch 182/250\n",
      "44/44 [==============================] - 0s 995us/step - loss: 26.7213\n",
      "Epoch 183/250\n",
      "44/44 [==============================] - 0s 947us/step - loss: 24.3684\n",
      "Epoch 184/250\n",
      "44/44 [==============================] - 0s 1ms/step - loss: 23.9109\n",
      "Epoch 185/250\n",
      "44/44 [==============================] - 0s 1ms/step - loss: 25.1747\n",
      "Epoch 186/250\n",
      "44/44 [==============================] - 0s 1ms/step - loss: 25.0262\n",
      "Epoch 187/250\n",
      "44/44 [==============================] - 0s 1ms/step - loss: 22.3590\n",
      "Epoch 188/250\n",
      "44/44 [==============================] - 0s 993us/step - loss: 23.9807\n",
      "Epoch 189/250\n",
      "44/44 [==============================] - 0s 1ms/step - loss: 23.7350\n",
      "Epoch 190/250\n",
      "44/44 [==============================] - 0s 1ms/step - loss: 23.2579\n",
      "Epoch 191/250\n",
      "44/44 [==============================] - 0s 1ms/step - loss: 28.5536\n",
      "Epoch 192/250\n",
      "44/44 [==============================] - 0s 1ms/step - loss: 22.7775\n",
      "Epoch 193/250\n",
      "44/44 [==============================] - 0s 942us/step - loss: 25.3245\n",
      "Epoch 194/250\n",
      "44/44 [==============================] - 0s 940us/step - loss: 24.6541\n",
      "Epoch 195/250\n",
      "44/44 [==============================] - 0s 967us/step - loss: 24.7540\n",
      "Epoch 196/250\n",
      "44/44 [==============================] - 0s 1ms/step - loss: 26.4772\n",
      "Epoch 197/250\n",
      "44/44 [==============================] - 0s 1ms/step - loss: 25.0065\n",
      "Epoch 198/250\n",
      "44/44 [==============================] - 0s 1ms/step - loss: 23.1843\n",
      "Epoch 199/250\n",
      "44/44 [==============================] - 0s 969us/step - loss: 23.5353\n",
      "Epoch 200/250\n",
      "44/44 [==============================] - 0s 965us/step - loss: 22.8528\n",
      "Epoch 201/250\n",
      "44/44 [==============================] - 0s 1ms/step - loss: 26.2975\n",
      "Epoch 202/250\n",
      "44/44 [==============================] - 0s 1ms/step - loss: 24.1636\n",
      "Epoch 203/250\n",
      "44/44 [==============================] - 0s 973us/step - loss: 25.8499\n",
      "Epoch 204/250\n",
      "44/44 [==============================] - 0s 932us/step - loss: 23.7874\n",
      "Epoch 205/250\n",
      "44/44 [==============================] - 0s 932us/step - loss: 23.6993\n",
      "Epoch 206/250\n",
      "44/44 [==============================] - 0s 966us/step - loss: 23.8042\n",
      "Epoch 207/250\n",
      "44/44 [==============================] - 0s 2ms/step - loss: 25.4520\n",
      "Epoch 208/250\n",
      "44/44 [==============================] - 0s 1ms/step - loss: 26.0027\n",
      "Epoch 209/250\n",
      "44/44 [==============================] - 0s 959us/step - loss: 22.3429\n",
      "Epoch 210/250\n",
      "44/44 [==============================] - 0s 950us/step - loss: 25.0885\n",
      "Epoch 211/250\n",
      "44/44 [==============================] - 0s 1ms/step - loss: 26.7323\n",
      "Epoch 212/250\n",
      "44/44 [==============================] - 0s 1ms/step - loss: 24.1021\n",
      "Epoch 213/250\n",
      "44/44 [==============================] - 0s 990us/step - loss: 24.6891\n",
      "Epoch 214/250\n",
      "44/44 [==============================] - 0s 997us/step - loss: 23.2155\n",
      "Epoch 215/250\n",
      "44/44 [==============================] - 0s 1ms/step - loss: 25.7970\n",
      "Epoch 216/250\n",
      "44/44 [==============================] - 0s 1ms/step - loss: 24.1473\n",
      "Epoch 217/250\n",
      "44/44 [==============================] - 0s 1ms/step - loss: 23.2779\n",
      "Epoch 218/250\n",
      "44/44 [==============================] - 0s 1ms/step - loss: 24.8528\n",
      "Epoch 219/250\n",
      "44/44 [==============================] - 0s 1ms/step - loss: 25.7031\n",
      "Epoch 220/250\n",
      "44/44 [==============================] - 0s 1ms/step - loss: 23.1508\n",
      "Epoch 221/250\n",
      "44/44 [==============================] - 0s 1ms/step - loss: 24.5497\n",
      "Epoch 222/250\n",
      "44/44 [==============================] - 0s 1ms/step - loss: 25.0353\n",
      "Epoch 223/250\n",
      "44/44 [==============================] - 0s 1ms/step - loss: 23.1099\n",
      "Epoch 224/250\n",
      "44/44 [==============================] - 0s 995us/step - loss: 24.5692\n",
      "Epoch 225/250\n",
      "44/44 [==============================] - 0s 972us/step - loss: 23.8492\n",
      "Epoch 226/250\n",
      "44/44 [==============================] - 0s 1ms/step - loss: 24.8680\n",
      "Epoch 227/250\n",
      "44/44 [==============================] - 0s 1ms/step - loss: 23.5155\n",
      "Epoch 228/250\n",
      "44/44 [==============================] - 0s 1ms/step - loss: 25.8176\n",
      "Epoch 229/250\n",
      "44/44 [==============================] - 0s 1ms/step - loss: 23.3109\n",
      "Epoch 230/250\n",
      "44/44 [==============================] - 0s 962us/step - loss: 24.4885\n",
      "Epoch 231/250\n",
      "44/44 [==============================] - 0s 1ms/step - loss: 23.4037\n",
      "Epoch 232/250\n",
      "44/44 [==============================] - 0s 1ms/step - loss: 25.3785\n",
      "Epoch 233/250\n",
      "44/44 [==============================] - 0s 1ms/step - loss: 24.1833\n",
      "Epoch 234/250\n",
      "44/44 [==============================] - 0s 1ms/step - loss: 24.0014\n",
      "Epoch 235/250\n",
      "44/44 [==============================] - 0s 978us/step - loss: 22.3644\n",
      "Epoch 236/250\n",
      "44/44 [==============================] - 0s 1ms/step - loss: 24.3714\n",
      "Epoch 237/250\n",
      "44/44 [==============================] - 0s 1ms/step - loss: 25.8666\n",
      "Epoch 238/250\n",
      "44/44 [==============================] - 0s 952us/step - loss: 25.5943\n",
      "Epoch 239/250\n",
      "44/44 [==============================] - 0s 1ms/step - loss: 25.8762\n",
      "Epoch 240/250\n",
      "44/44 [==============================] - 0s 1ms/step - loss: 23.4378\n",
      "Epoch 241/250\n",
      "44/44 [==============================] - 0s 1ms/step - loss: 23.5560\n",
      "Epoch 242/250\n",
      "44/44 [==============================] - 0s 1ms/step - loss: 24.8887\n",
      "Epoch 243/250\n",
      "44/44 [==============================] - 0s 957us/step - loss: 23.6234\n",
      "Epoch 244/250\n",
      "44/44 [==============================] - 0s 1ms/step - loss: 24.4762\n",
      "Epoch 245/250\n",
      "44/44 [==============================] - 0s 1ms/step - loss: 24.3123\n",
      "Epoch 246/250\n",
      "44/44 [==============================] - 0s 1ms/step - loss: 24.2621\n",
      "Epoch 247/250\n",
      "44/44 [==============================] - 0s 1ms/step - loss: 23.7980\n",
      "Epoch 248/250\n",
      "44/44 [==============================] - 0s 1ms/step - loss: 22.1428\n",
      "Epoch 249/250\n",
      "44/44 [==============================] - 0s 1ms/step - loss: 23.3965\n",
      "Epoch 250/250\n",
      "44/44 [==============================] - 0s 1ms/step - loss: 22.8709\n"
     ]
    },
    {
     "data": {
      "text/plain": [
       "<tensorflow.python.keras.callbacks.History at 0x7f975f7852e8>"
      ]
     },
     "execution_count": 34,
     "metadata": {
      "tags": []
     },
     "output_type": "execute_result"
    }
   ],
   "source": [
    "model6.fit(X_train, y_train, batch_size=16, epochs=250)"
   ]
  },
  {
   "cell_type": "code",
   "execution_count": null,
   "metadata": {
    "colab": {
     "base_uri": "https://localhost:8080/"
    },
    "executionInfo": {
     "elapsed": 813,
     "status": "ok",
     "timestamp": 1609698650350,
     "user": {
      "displayName": "Richard C",
      "photoUrl": "",
      "userId": "08040814671867660929"
     },
     "user_tz": -180
    },
    "id": "8KPU0R2-YaWY",
    "outputId": "c61de307-af8e-428c-87a6-4326b64fb4f1"
   },
   "outputs": [
    {
     "name": "stdout",
     "output_type": "stream",
     "text": [
      "Model: \"sequential_7\"\n",
      "_________________________________________________________________\n",
      "Layer (type)                 Output Shape              Param #   \n",
      "=================================================================\n",
      "dense_25 (Dense)             (None, 4)                 12        \n",
      "_________________________________________________________________\n",
      "dense_26 (Dense)             (None, 4)                 20        \n",
      "_________________________________________________________________\n",
      "dense_27 (Dense)             (None, 2)                 10        \n",
      "_________________________________________________________________\n",
      "dense_28 (Dense)             (None, 1)                 3         \n",
      "=================================================================\n",
      "Total params: 45\n",
      "Trainable params: 45\n",
      "Non-trainable params: 0\n",
      "_________________________________________________________________\n"
     ]
    }
   ],
   "source": [
    "model6.summary()"
   ]
  },
  {
   "cell_type": "code",
   "execution_count": null,
   "metadata": {
    "id": "SEBWFHhyiu5W"
   },
   "outputs": [],
   "source": [
    "loss_df=pd.DataFrame(model6.history.history)"
   ]
  },
  {
   "cell_type": "code",
   "execution_count": null,
   "metadata": {
    "colab": {
     "base_uri": "https://localhost:8080/",
     "height": 282
    },
    "executionInfo": {
     "elapsed": 1784,
     "status": "ok",
     "timestamp": 1609699281249,
     "user": {
      "displayName": "Richard C",
      "photoUrl": "",
      "userId": "08040814671867660929"
     },
     "user_tz": -180
    },
    "id": "d3YnREPSizsq",
    "outputId": "eecca895-63ad-4e1a-8925-25a2a8e6778f"
   },
   "outputs": [
    {
     "data": {
      "text/plain": [
       "<matplotlib.axes._subplots.AxesSubplot at 0x7f975eb4f978>"
      ]
     },
     "execution_count": 40,
     "metadata": {
      "tags": []
     },
     "output_type": "execute_result"
    },
    {
     "data": {
      "image/png": "[encoded data removed]",
      "text/plain": [
       "<Figure size 432x288 with 1 Axes>"
      ]
     },
     "metadata": {
      "needs_background": "light",
      "tags": []
     },
     "output_type": "display_data"
    }
   ],
   "source": [
    "loss_df.plot()"
   ]
  },
  {
   "cell_type": "code",
   "execution_count": null,
   "metadata": {
    "colab": {
     "base_uri": "https://localhost:8080/",
     "height": 281
    },
    "executionInfo": {
     "elapsed": 1726,
     "status": "ok",
     "timestamp": 1609699367777,
     "user": {
      "displayName": "Richard C",
      "photoUrl": "",
      "userId": "08040814671867660929"
     },
     "user_tz": -180
    },
    "id": "ERt5sUIwi4M8",
    "outputId": "31fe9efe-ecc2-4ae8-e461-134d78eed8a7"
   },
   "outputs": [
    {
     "data": {
      "image/png": "[encoded data removed]",
      "text/plain": [
       "<Figure size 432x288 with 1 Axes>"
      ]
     },
     "metadata": {
      "needs_background": "light",
      "tags": []
     },
     "output_type": "display_data"
    }
   ],
   "source": [
    "import seaborn as sns\n",
    "import matplotlib.pyplot as plt\n",
    "loss = model6.history.history['loss']\n",
    "sns.lineplot(x=range(len(loss)),y=loss)\n",
    "plt.title(\"Training Loss per Epoch\");"
   ]
  },
  {
   "cell_type": "code",
   "execution_count": null,
   "metadata": {
    "colab": {
     "base_uri": "https://localhost:8080/"
    },
    "executionInfo": {
     "elapsed": 1018,
     "status": "ok",
     "timestamp": 1609699674066,
     "user": {
      "displayName": "Richard C",
      "photoUrl": "",
      "userId": "08040814671867660929"
     },
     "user_tz": -180
    },
    "id": "hzzTAtF3k5_3",
    "outputId": "66b543a2-c186-46a1-de22-a4cc5611a7fb"
   },
   "outputs": [
    {
     "data": {
      "text/plain": [
       "236"
      ]
     },
     "execution_count": 44,
     "metadata": {
      "tags": []
     },
     "output_type": "execute_result"
    }
   ],
   "source": [
    "loss_df.loss.idxmin() "
   ]
  },
  {
   "cell_type": "markdown",
   "metadata": {},
   "source": [
    "# Evaluation  metrics & model predictions"
   ]
  },
  {
   "cell_type": "code",
   "execution_count": null,
   "metadata": {
    "id": "46hrlI_llH8r"
   },
   "outputs": [],
   "source": [
    "from sklearn.metrics import mean_absolute_error\n",
    "from sklearn.metrics import mean_squared_error, mean_absolute_error, r2_score\n",
    "import numpy as np"
   ]
  },
  {
   "cell_type": "code",
   "execution_count": null,
   "metadata": {
    "id": "TRbo5Z5UlP4-"
   },
   "outputs": [],
   "source": [
    "def eval_metrics(actual, pred):\n",
    "    rmse = np.sqrt(mean_squared_error(actual, pred))\n",
    "    mae = mean_absolute_error(actual, pred)\n",
    "    mse = mean_squared_error(actual, pred)\n",
    "    score = r2_score(actual, pred)\n",
    "    return print(\"r2_score:\", score, \"\\n\",\"mae:\", mae, \"\\n\",\"mse:\",mse, \"\\n\",\"rmse:\",rmse)"
   ]
  },
  {
   "cell_type": "code",
   "execution_count": null,
   "metadata": {
    "id": "2ngMwPk5laAp"
   },
   "outputs": [],
   "source": [
    "y_pred = model6.predict(X_test)"
   ]
  },
  {
   "cell_type": "code",
   "execution_count": null,
   "metadata": {
    "colab": {
     "base_uri": "https://localhost:8080/"
    },
    "executionInfo": {
     "elapsed": 883,
     "status": "ok",
     "timestamp": 1609700000778,
     "user": {
      "displayName": "Richard C",
      "photoUrl": "",
      "userId": "08040814671867660929"
     },
     "user_tz": -180
    },
    "id": "F7zMsMpOmKCS",
    "outputId": "68e92fc5-ae0d-4faa-ad7c-5a2771745724"
   },
   "outputs": [
    {
     "name": "stdout",
     "output_type": "stream",
     "text": [
      "r2_score: 0.9971349975790853 \n",
      " mae: 4.0296127171465965 \n",
      " mse: 25.189192006166255 \n",
      " rmse: 5.018883541801529\n"
     ]
    }
   ],
   "source": [
    "eval_metrics(y_test, y_pred)"
   ]
  },
  {
   "cell_type": "code",
   "execution_count": null,
   "metadata": {
    "colab": {
     "base_uri": "https://localhost:8080/"
    },
    "executionInfo": {
     "elapsed": 2916,
     "status": "ok",
     "timestamp": 1609699876665,
     "user": {
      "displayName": "Richard C",
      "photoUrl": "",
      "userId": "08040814671867660929"
     },
     "user_tz": -180
    },
    "id": "1k3-gKSdlepr",
    "outputId": "400b6497-e130-4533-adf3-2a83443d771a"
   },
   "outputs": [
    {
     "data": {
      "text/plain": [
       "(300,)"
      ]
     },
     "execution_count": 49,
     "metadata": {
      "tags": []
     },
     "output_type": "execute_result"
    }
   ],
   "source": [
    "y_test.shape"
   ]
  },
  {
   "cell_type": "code",
   "execution_count": null,
   "metadata": {
    "colab": {
     "base_uri": "https://localhost:8080/"
    },
    "executionInfo": {
     "elapsed": 843,
     "status": "ok",
     "timestamp": 1609699887552,
     "user": {
      "displayName": "Richard C",
      "photoUrl": "",
      "userId": "08040814671867660929"
     },
     "user_tz": -180
    },
    "id": "nbuMkuG5lsyp",
    "outputId": "0901f634-886c-48f1-9a1e-7993cbccb2af"
   },
   "outputs": [
    {
     "data": {
      "text/plain": [
       "(300, 1)"
      ]
     },
     "execution_count": 50,
     "metadata": {
      "tags": []
     },
     "output_type": "execute_result"
    }
   ],
   "source": [
    "y_pred.shape"
   ]
  },
  {
   "cell_type": "code",
   "execution_count": null,
   "metadata": {
    "id": "Q2OC0-XVlwX4"
   },
   "outputs": [],
   "source": [
    "my_dict={\"Actual\":y_test, \"Pred\":y_pred.reshape(300,)}\n",
    "compare=pd.DataFrame(my_dict)"
   ]
  },
  {
   "cell_type": "code",
   "execution_count": null,
   "metadata": {
    "colab": {
     "base_uri": "https://localhost:8080/",
     "height": 203
    },
    "executionInfo": {
     "elapsed": 2757,
     "status": "ok",
     "timestamp": 1609699963700,
     "user": {
      "displayName": "Richard C",
      "photoUrl": "",
      "userId": "08040814671867660929"
     },
     "user_tz": -180
    },
    "id": "62hiRf33l9KU",
    "outputId": "6ca8ec5c-65f3-4d52-ee14-6f8131b3cf7b"
   },
   "outputs": [
    {
     "data": {
      "text/html": [
       "<div>\n",
       "<style scoped>\n",
       "    .dataframe tbody tr th:only-of-type {\n",
       "        vertical-align: middle;\n",
       "    }\n",
       "\n",
       "    .dataframe tbody tr th {\n",
       "        vertical-align: top;\n",
       "    }\n",
       "\n",
       "    .dataframe thead th {\n",
       "        text-align: right;\n",
       "    }\n",
       "</style>\n",
       "<table border=\"1\" class=\"dataframe\">\n",
       "  <thead>\n",
       "    <tr style=\"text-align: right;\">\n",
       "      <th></th>\n",
       "      <th>Actual</th>\n",
       "      <th>Pred</th>\n",
       "    </tr>\n",
       "  </thead>\n",
       "  <tbody>\n",
       "    <tr>\n",
       "      <th>288</th>\n",
       "      <td>449.458484</td>\n",
       "      <td>449.628784</td>\n",
       "    </tr>\n",
       "    <tr>\n",
       "      <th>174</th>\n",
       "      <td>549.847620</td>\n",
       "      <td>549.997986</td>\n",
       "    </tr>\n",
       "    <tr>\n",
       "      <th>131</th>\n",
       "      <td>420.766213</td>\n",
       "      <td>423.987885</td>\n",
       "    </tr>\n",
       "    <tr>\n",
       "      <th>273</th>\n",
       "      <td>375.959380</td>\n",
       "      <td>381.969147</td>\n",
       "    </tr>\n",
       "    <tr>\n",
       "      <th>226</th>\n",
       "      <td>603.887577</td>\n",
       "      <td>606.049194</td>\n",
       "    </tr>\n",
       "  </tbody>\n",
       "</table>\n",
       "</div>"
      ],
      "text/plain": [
       "         Actual        Pred\n",
       "288  449.458484  449.628784\n",
       "174  549.847620  549.997986\n",
       "131  420.766213  423.987885\n",
       "273  375.959380  381.969147\n",
       "226  603.887577  606.049194"
      ]
     },
     "execution_count": 54,
     "metadata": {
      "tags": []
     },
     "output_type": "execute_result"
    }
   ],
   "source": [
    "compare.sample(5)"
   ]
  },
  {
   "cell_type": "code",
   "execution_count": null,
   "metadata": {
    "id": "IGypFxKjl-my"
   },
   "outputs": [],
   "source": []
  }
 ],
 "metadata": {
  "colab": {
   "authorship_tag": "ABX9TyNElE9fpAXGKO7FlQ0RZwJ4",
   "collapsed_sections": [],
   "name": "00_keras_syntax_basics_inclass_act_richard.ipynb",
   "provenance": []
  },
  "kernelspec": {
   "display_name": "Python 3",
   "language": "python",
   "name": "python3"
  },
  "language_info": {
   "codemirror_mode": {
    "name": "ipython",
    "version": 3
   },
   "file_extension": ".py",
   "mimetype": "text/x-python",
   "name": "python",
   "nbconvert_exporter": "python",
   "pygments_lexer": "ipython3",
   "version": "3.7.9"
  }
 },
 "nbformat": 4,
 "nbformat_minor": 1
}
